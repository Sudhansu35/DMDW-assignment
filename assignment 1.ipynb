{
  "nbformat": 4,
  "nbformat_minor": 0,
  "metadata": {
    "colab": {
      "name": "Untitled0.ipynb",
      "provenance": [],
      "authorship_tag": "ABX9TyPQ/JJPs3Hsqo3GOLuut1qD",
      "include_colab_link": true
    },
    "kernelspec": {
      "name": "python3",
      "display_name": "Python 3"
    },
    "language_info": {
      "name": "python"
    }
  },
  "cells": [
    {
      "cell_type": "markdown",
      "metadata": {
        "id": "view-in-github",
        "colab_type": "text"
      },
      "source": [
        "<a href=\"https://colab.research.google.com/github/Sudhansu35/DMDW-assignment/blob/main/assignment%201.ipynb\" target=\"_parent\"><img src=\"https://colab.research.google.com/assets/colab-badge.svg\" alt=\"Open In Colab\"/></a>"
      ]
    },
    {
      "cell_type": "markdown",
      "metadata": {
        "id": "jdrJHBiZInbX"
      },
      "source": [
        "Create a list in python . Next find mean and median of the list without using any builtin library functions"
      ]
    },
    {
      "cell_type": "code",
      "metadata": {
        "colab": {
          "base_uri": "https://localhost:8080/"
        },
        "id": "yGLUr-7rIpgb",
        "outputId": "897e649e-8c0e-46bb-b036-d57bc2bfad1d"
      },
      "source": [
        "lst = [12,35,18,9,56,24]\n",
        "n = len(lst)\n",
        "s = sum(lst)\n",
        "mean = s/n\n",
        "print(\"Mean is: \",mean)\n",
        "lst.sort()\n",
        "if n%2 == 0:\n",
        "    mid1 = lst[n//2]\n",
        "    mid2 = lst[n//2-1]\n",
        "    meadian = (mid1+mid2)//2\n",
        "else:\n",
        "    median = lst[n//2]\n",
        "print(meadian)"
      ],
      "execution_count": 1,
      "outputs": [
        {
          "output_type": "stream",
          "name": "stdout",
          "text": [
            "Mean is:  25.666666666666668\n",
            "21\n"
          ]
        }
      ]
    },
    {
      "cell_type": "markdown",
      "metadata": {
        "id": "VIBp3hAOI3QI"
      },
      "source": [
        "Create list inj python. Next find the mode of the list without using any builtin library function"
      ]
    },
    {
      "cell_type": "code",
      "metadata": {
        "colab": {
          "base_uri": "https://localhost:8080/"
        },
        "id": "aII5XrWGI4Yu",
        "outputId": "46a639f6-659b-4f88-af19-c3a42aa555eb"
      },
      "source": [
        "list1=[2,3,1,1,6,2,1,5]\n",
        "list1.sort()\n",
        "list2 = []\n",
        "res = []\n",
        "for i in list1:\n",
        "    list2.append(list1.count(i))\n",
        "dic = dict(zip(list1,list2))\n",
        "for k,v in dic.items():\n",
        "    if v == max(list2):\n",
        "        res.append(k)\n",
        "print(\"Mode is: \",res)"
      ],
      "execution_count": 2,
      "outputs": [
        {
          "output_type": "stream",
          "name": "stdout",
          "text": [
            "Mode is:  [1]\n"
          ]
        }
      ]
    },
    {
      "cell_type": "markdown",
      "metadata": {
        "id": "V1lPZhMYI889"
      },
      "source": [
        "Create a list in python. Next find the second smallest number and second highest number in the list."
      ]
    },
    {
      "cell_type": "code",
      "metadata": {
        "colab": {
          "base_uri": "https://localhost:8080/"
        },
        "id": "OEX0pWbwI9wR",
        "outputId": "cea8644d-8a5f-482c-8548-314eef96680a"
      },
      "source": [
        "lst = [12,35,18,9,56,24]\n",
        "lst.sort()\n",
        "print(\"Second Smallest: \",lst[1])\n",
        "print(\"Second Highest: \",lst[-2])"
      ],
      "execution_count": 3,
      "outputs": [
        {
          "output_type": "stream",
          "name": "stdout",
          "text": [
            "Second Smallest:  12\n",
            "Second Highest:  35\n"
          ]
        }
      ]
    }
  ]
}